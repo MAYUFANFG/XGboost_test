{
  "nbformat": 4,
  "nbformat_minor": 0,
  "metadata": {
    "colab": {
      "provenance": [],
      "toc_visible": true,
      "authorship_tag": "ABX9TyPDjjOyqLUir6ZHtFhRPZ73",
      "include_colab_link": true
    },
    "kernelspec": {
      "name": "python3",
      "display_name": "Python 3"
    },
    "language_info": {
      "name": "python"
    }
  },
  "cells": [
    {
      "cell_type": "markdown",
      "metadata": {
        "id": "view-in-github",
        "colab_type": "text"
      },
      "source": [
        "<a href=\"https://colab.research.google.com/github/MAYUFANFG/XGboost_test/blob/main/Pandas.ipynb\" target=\"_parent\"><img src=\"https://colab.research.google.com/assets/colab-badge.svg\" alt=\"Open In Colab\"/></a>"
      ]
    },
    {
      "cell_type": "code",
      "execution_count": 11,
      "metadata": {
        "colab": {
          "base_uri": "https://localhost:8080/"
        },
        "id": "lxMjmrLzE-al",
        "outputId": "64601bb6-04d6-42fb-c57f-fd73e9a0bd13"
      },
      "outputs": [
        {
          "output_type": "stream",
          "name": "stdout",
          "text": [
            "使用字典來建立df：\n",
            "     name  math  chinese\n",
            "0    Mike    80       63\n",
            "1  Sherry    75       90\n",
            "2   Cindy    93       85\n",
            "3    John    86       70\n",
            "=====================\n",
            "使用陣列來建立df：\n",
            "        0   1   2\n",
            "0    Mike  80  63\n",
            "1  Sherry  75  90\n",
            "2   Cindy  93  85\n",
            "3    John  86  70\n"
          ]
        }
      ],
      "source": [
        "import pandas as pd\n",
        "import numpy as np\n",
        "import matplotlib.pyplot as plt\n",
        "import seaborn as sns\n",
        "grades = {\n",
        "    \"name\": [\"Mike\", \"Sherry\", \"Cindy\", \"John\"],\n",
        "    \"math\": [80, 75, 93, 86],\n",
        "    \"chinese\": [63, 90, 85, 70]\n",
        "}\n",
        "\n",
        "df = pd.DataFrame(grades)\n",
        "\n",
        "print(\"使用字典來建立df：\")\n",
        "print(df)\n",
        "\n",
        "print(\"=====================\")\n",
        "\n",
        "grades = [\n",
        "    [\"Mike\", 80, 63],\n",
        "    [\"Sherry\", 75, 90],\n",
        "    [\"Cindy\", 93, 85],\n",
        "    [\"John\", 86, 70]\n",
        "]\n",
        "\n",
        "new_df = pd.DataFrame(grades)\n",
        "\n",
        "print(\"使用陣列來建立df：\")\n",
        "print(new_df)"
      ]
    },
    {
      "cell_type": "markdown",
      "source": [
        "###問題\n",
        "print(df)可不可以不使用print ex:df\n",
        "\n"
      ],
      "metadata": {
        "id": "MS-ws1OKJgUS"
      }
    }
  ]
}